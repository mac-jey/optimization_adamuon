{
 "cells": [
  {
   "cell_type": "markdown",
   "id": "ac054872",
   "metadata": {},
   "source": [
    "# Basic functionality test\n",
    "Runs a few optimization steps on a quadratic function to check module integration."
   ]
  },
  {
   "cell_type": "code",
   "execution_count": null,
   "id": "e38a68b1",
   "metadata": {},
   "outputs": [],
   "source": [
    "\n",
    "import numpy as np\n",
    "from Normalize import Normalizer\n",
    "from Bridge import OnePointOptimizer, BridgeConfig\n",
    "\n",
    "# simple quadratic objective f(x)=x^T x\n",
    "def f_x(x):\n",
    "    return float(np.sum(x**2))\n",
    "\n",
    "# two-dimensional box [-1,1]^2 mapped to unit cube via boundary tuples\n",
    "N = Normalizer.boundary_tuples(bounds=[(-1,1), (-1,1)], mode=['clip','clip'])\n",
    "opt = OnePointOptimizer(f_x, normalizer=N, bridge_cfg=BridgeConfig(seed=0))\n",
    "\n",
    "y = np.array([0.2, 0.8])\n",
    "for i in range(3):\n",
    "    y, f, info = opt.step(y, env_hash='demo')\n",
    "    print(i, f, info.get('accepted'))\n"
   ]
  }
 ],
 "metadata": {},
 "nbformat": 4,
 "nbformat_minor": 5
}
