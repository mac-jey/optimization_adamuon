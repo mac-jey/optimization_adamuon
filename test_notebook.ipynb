{
 "cells": [
  {
   "cell_type": "markdown",
   "id": "e391bd21",
   "metadata": {},
   "source": [
    "# Optimization Adamuon Tests\n",
    "Demonstration of module usage."
   ]
  },
  {
   "cell_type": "code",
   "execution_count": null,
   "id": "e03c5d74",
   "metadata": {},
   "outputs": [],
   "source": [
    "import numpy as np\n",
    "from Normalize import Normalizer\n",
    "from Bridge import OnePointOptimizer, BridgeConfig\n",
    "from Gradient import Central2P"
   ]
  },
  {
   "cell_type": "code",
   "execution_count": null,
   "id": "46b38884",
   "metadata": {},
   "outputs": [],
   "source": [
    "# Normalizer roundtrip\n",
    "N = Normalizer.boundary_tuples([(-1,1)], mode=['clip'])\n",
    "x = np.array([0.3])\n",
    "y = N.cap_encode(x, out='y')\n",
    "print('y', y)\n",
    "x_back = N.cap_decode(y, input='y')\n",
    "print('roundtrip error', np.abs(x - x_back))"
   ]
  },
  {
   "cell_type": "code",
   "execution_count": null,
   "id": "fcea14a2",
   "metadata": {},
   "outputs": [],
   "source": [
    "# Central2P gradient check on f(y)=||y||^2\n",
    "f = lambda z: float(np.sum(z**2))\n",
    "y0 = np.array([0.4, -0.2])\n",
    "g, info, fevals = Central2P(K=2).grad(f, y0)\n",
    "print('fd grad', g)\n",
    "print('analytical grad', 2*y0)"
   ]
  },
  {
   "cell_type": "code",
   "execution_count": null,
   "id": "3aa80adb",
   "metadata": {},
   "outputs": [],
   "source": [
    "# OnePointOptimizer step on quadratic objective\n",
    "bounds=[(-1.0,1.0),(-1.0,1.0)]\n",
    "N = Normalizer.boundary_tuples(bounds, mode=['clip','clip'])\n",
    "\n",
    "# quadratic objective\n",
    "def f_x(x):\n",
    "    return float(np.sum(x**2))\n",
    "\n",
    "opt = OnePointOptimizer(f_x, normalizer=N, bridge_cfg=BridgeConfig(seed=0))\n",
    "\n",
    "y = N.cap_encode(np.array([0.5,-0.5]), out='y')\n",
    "for i in range(3):\n",
    "    y, fval, info = opt.step(y)\n",
    "    print(f'iter {i}: f={fval:.6f}, y={y}')"
   ]
  }
 ],
 "metadata": {
  "kernelspec": {
   "display_name": "Python 3",
   "language": "python",
   "name": "python3"
  },
  "language_info": {
   "name": "python",
   "version": "3.10"
  }
 },
 "nbformat": 4,
 "nbformat_minor": 5
}
